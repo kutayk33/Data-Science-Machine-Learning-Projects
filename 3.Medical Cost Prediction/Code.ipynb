{
  "nbformat": 4,
  "nbformat_minor": 0,
  "metadata": {
    "colab": {
      "name": "Template_Regression.ipynb",
      "provenance": [],
      "collapsed_sections": []
    },
    "kernelspec": {
      "name": "python3",
      "display_name": "Python 3"
    }
  },
  "cells": [
    {
      "cell_type": "markdown",
      "metadata": {
        "id": "37puETfgRzzg"
      },
      "source": [
        "# Prétraitement des données"
      ]
    },
    {
      "cell_type": "markdown",
      "metadata": {
        "id": "EoRP98MpR-qj"
      },
      "source": [
        "## Importer les bibliothèques"
      ]
    },
    {
      "cell_type": "code",
      "metadata": {
        "id": "N-qiINBQSK2g"
      },
      "source": [
        "import numpy as np\n",
        "import matplotlib.pyplot as plt\n",
        "import pandas as pd\n",
        "import seaborn as sns\n",
        "from sklearn.metrics import r2_score\n",
        "import warnings\n",
        "warnings.filterwarnings('ignore')"
      ],
      "execution_count": 77,
      "outputs": []
    },
    {
      "cell_type": "markdown",
      "metadata": {
        "id": "RopL7tUZSQkT"
      },
      "source": [
        "## Importer le jeu de données"
      ]
    },
    {
      "cell_type": "code",
      "metadata": {
        "id": "EiRYerDXB0mp",
        "colab": {
          "base_uri": "https://localhost:8080/",
          "height": 137
        },
        "outputId": "e4853d32-05c9-4f41-9152-92572ac26076"
      },
      "source": [
        "data = pd.read_csv(\"https://simplonline-v3-prod.s3.eu-west-3.amazonaws.com/media/file/csv/d51b9368-7437-420c-975c-81cac8790b68.csv\", sep=',')\r\n",
        "data.head(3)"
      ],
      "execution_count": 2,
      "outputs": [
        {
          "output_type": "execute_result",
          "data": {
            "text/html": [
              "<div>\n",
              "<style scoped>\n",
              "    .dataframe tbody tr th:only-of-type {\n",
              "        vertical-align: middle;\n",
              "    }\n",
              "\n",
              "    .dataframe tbody tr th {\n",
              "        vertical-align: top;\n",
              "    }\n",
              "\n",
              "    .dataframe thead th {\n",
              "        text-align: right;\n",
              "    }\n",
              "</style>\n",
              "<table border=\"1\" class=\"dataframe\">\n",
              "  <thead>\n",
              "    <tr style=\"text-align: right;\">\n",
              "      <th></th>\n",
              "      <th>age</th>\n",
              "      <th>sex</th>\n",
              "      <th>bmi</th>\n",
              "      <th>children</th>\n",
              "      <th>smoker</th>\n",
              "      <th>region</th>\n",
              "      <th>charges</th>\n",
              "    </tr>\n",
              "  </thead>\n",
              "  <tbody>\n",
              "    <tr>\n",
              "      <th>0</th>\n",
              "      <td>19</td>\n",
              "      <td>female</td>\n",
              "      <td>27.90</td>\n",
              "      <td>0</td>\n",
              "      <td>yes</td>\n",
              "      <td>southwest</td>\n",
              "      <td>16884.9240</td>\n",
              "    </tr>\n",
              "    <tr>\n",
              "      <th>1</th>\n",
              "      <td>18</td>\n",
              "      <td>male</td>\n",
              "      <td>33.77</td>\n",
              "      <td>1</td>\n",
              "      <td>no</td>\n",
              "      <td>southeast</td>\n",
              "      <td>1725.5523</td>\n",
              "    </tr>\n",
              "    <tr>\n",
              "      <th>2</th>\n",
              "      <td>28</td>\n",
              "      <td>male</td>\n",
              "      <td>33.00</td>\n",
              "      <td>3</td>\n",
              "      <td>no</td>\n",
              "      <td>southeast</td>\n",
              "      <td>4449.4620</td>\n",
              "    </tr>\n",
              "  </tbody>\n",
              "</table>\n",
              "</div>"
            ],
            "text/plain": [
              "   age     sex    bmi  children smoker     region     charges\n",
              "0   19  female  27.90         0    yes  southwest  16884.9240\n",
              "1   18    male  33.77         1     no  southeast   1725.5523\n",
              "2   28    male  33.00         3     no  southeast   4449.4620"
            ]
          },
          "metadata": {
            "tags": []
          },
          "execution_count": 2
        }
      ]
    },
    {
      "cell_type": "markdown",
      "metadata": {
        "id": "CriG6VzVSjcK"
      },
      "source": [
        "## Encoding categorical data\n"
      ]
    },
    {
      "cell_type": "markdown",
      "metadata": {
        "id": "DXh8oVSITIc6"
      },
      "source": [
        "### Encoding the Dependent Variable"
      ]
    },
    {
      "cell_type": "code",
      "metadata": {
        "id": "ASQMWD91yeHP"
      },
      "source": [
        "df = data.copy()"
      ],
      "execution_count": 94,
      "outputs": []
    },
    {
      "cell_type": "code",
      "metadata": {
        "id": "xQuChqF95nXA"
      },
      "source": [
        "from sklearn.preprocessing import LabelEncoder\r\n",
        "le = LabelEncoder()\r\n",
        "df.iloc[:, 1] = le.fit_transform(df.iloc[:, 1])\r\n",
        "df.iloc[:, 4] = le.fit_transform(df.iloc[:, 4])\r\n",
        "df.iloc[:, 5] = le.fit_transform(df.iloc[:, 5])"
      ],
      "execution_count": 95,
      "outputs": []
    },
    {
      "cell_type": "code",
      "metadata": {
        "colab": {
          "base_uri": "https://localhost:8080/",
          "height": 137
        },
        "id": "9FGGdabk6AMK",
        "outputId": "0f8d4b30-85a3-44eb-b2ed-82737da94c73"
      },
      "source": [
        "df.head(3)"
      ],
      "execution_count": 96,
      "outputs": [
        {
          "output_type": "execute_result",
          "data": {
            "text/html": [
              "<div>\n",
              "<style scoped>\n",
              "    .dataframe tbody tr th:only-of-type {\n",
              "        vertical-align: middle;\n",
              "    }\n",
              "\n",
              "    .dataframe tbody tr th {\n",
              "        vertical-align: top;\n",
              "    }\n",
              "\n",
              "    .dataframe thead th {\n",
              "        text-align: right;\n",
              "    }\n",
              "</style>\n",
              "<table border=\"1\" class=\"dataframe\">\n",
              "  <thead>\n",
              "    <tr style=\"text-align: right;\">\n",
              "      <th></th>\n",
              "      <th>age</th>\n",
              "      <th>sex</th>\n",
              "      <th>bmi</th>\n",
              "      <th>children</th>\n",
              "      <th>smoker</th>\n",
              "      <th>region</th>\n",
              "      <th>charges</th>\n",
              "    </tr>\n",
              "  </thead>\n",
              "  <tbody>\n",
              "    <tr>\n",
              "      <th>0</th>\n",
              "      <td>19</td>\n",
              "      <td>0</td>\n",
              "      <td>27.90</td>\n",
              "      <td>0</td>\n",
              "      <td>1</td>\n",
              "      <td>3</td>\n",
              "      <td>16884.9240</td>\n",
              "    </tr>\n",
              "    <tr>\n",
              "      <th>1</th>\n",
              "      <td>18</td>\n",
              "      <td>1</td>\n",
              "      <td>33.77</td>\n",
              "      <td>1</td>\n",
              "      <td>0</td>\n",
              "      <td>2</td>\n",
              "      <td>1725.5523</td>\n",
              "    </tr>\n",
              "    <tr>\n",
              "      <th>2</th>\n",
              "      <td>28</td>\n",
              "      <td>1</td>\n",
              "      <td>33.00</td>\n",
              "      <td>3</td>\n",
              "      <td>0</td>\n",
              "      <td>2</td>\n",
              "      <td>4449.4620</td>\n",
              "    </tr>\n",
              "  </tbody>\n",
              "</table>\n",
              "</div>"
            ],
            "text/plain": [
              "   age  sex    bmi  children  smoker  region     charges\n",
              "0   19    0  27.90         0       1       3  16884.9240\n",
              "1   18    1  33.77         1       0       2   1725.5523\n",
              "2   28    1  33.00         3       0       2   4449.4620"
            ]
          },
          "metadata": {
            "tags": []
          },
          "execution_count": 96
        }
      ]
    },
    {
      "cell_type": "markdown",
      "metadata": {
        "id": "zsTavzKi6L1B"
      },
      "source": [
        "**sex:** \r\n",
        "- femme:0  \r\n",
        "- homme:1\r\n",
        "\r\n",
        "**smoker:** \r\n",
        "- no:0 \r\n",
        "- yes:1\r\n",
        "\r\n",
        "**region:**\r\n",
        "- southwest:3 \r\n",
        "- southeast:2 \r\n",
        "- northwest:1 \r\n",
        "- northeast:0"
      ]
    },
    {
      "cell_type": "markdown",
      "metadata": {
        "id": "nhfKXNxlSabC"
      },
      "source": [
        "## Données manquantes\n",
        "\n"
      ]
    },
    {
      "cell_type": "code",
      "metadata": {
        "colab": {
          "base_uri": "https://localhost:8080/"
        },
        "id": "KHykx5q-3LSH",
        "outputId": "e4e5599b-6b8d-418a-8159-e121ec365c0a"
      },
      "source": [
        "df.isnull().sum().sum()"
      ],
      "execution_count": 97,
      "outputs": [
        {
          "output_type": "execute_result",
          "data": {
            "text/plain": [
              "0"
            ]
          },
          "metadata": {
            "tags": []
          },
          "execution_count": 97
        }
      ]
    },
    {
      "cell_type": "code",
      "metadata": {
        "colab": {
          "base_uri": "https://localhost:8080/"
        },
        "id": "-ldZaED64KyC",
        "outputId": "90fdbc4a-eb46-476a-9a5a-b369c66f70cb"
      },
      "source": [
        "# Data types\r\n",
        "df.dtypes"
      ],
      "execution_count": 98,
      "outputs": [
        {
          "output_type": "execute_result",
          "data": {
            "text/plain": [
              "age           int64\n",
              "sex           int64\n",
              "bmi         float64\n",
              "children      int64\n",
              "smoker        int64\n",
              "region        int64\n",
              "charges     float64\n",
              "dtype: object"
            ]
          },
          "metadata": {
            "tags": []
          },
          "execution_count": 98
        }
      ]
    },
    {
      "cell_type": "markdown",
      "metadata": {
        "id": "TXBHmUxSB6az"
      },
      "source": [
        "# Separation des Variables Independant et la variable dependant"
      ]
    },
    {
      "cell_type": "code",
      "metadata": {
        "id": "_ZsSmSttCcXq"
      },
      "source": [
        "X = df.iloc[:, :-1].values\r\n",
        "y = df.iloc[:, -1].values"
      ],
      "execution_count": 99,
      "outputs": []
    },
    {
      "cell_type": "code",
      "metadata": {
        "id": "hCsz2yCebe1R",
        "colab": {
          "base_uri": "https://localhost:8080/"
        },
        "outputId": "e929f389-f726-435c-bfa6-21c8fa4d9e36"
      },
      "source": [
        "X[:3]"
      ],
      "execution_count": 100,
      "outputs": [
        {
          "output_type": "execute_result",
          "data": {
            "text/plain": [
              "array([[19.  ,  0.  , 27.9 ,  0.  ,  1.  ,  3.  ],\n",
              "       [18.  ,  1.  , 33.77,  1.  ,  0.  ,  2.  ],\n",
              "       [28.  ,  1.  , 33.  ,  3.  ,  0.  ,  2.  ]])"
            ]
          },
          "metadata": {
            "tags": []
          },
          "execution_count": 100
        }
      ]
    },
    {
      "cell_type": "code",
      "metadata": {
        "id": "eYrOQ43XcJR3",
        "colab": {
          "base_uri": "https://localhost:8080/"
        },
        "outputId": "4b1090d4-3204-4812-916b-33c6addf7ae8"
      },
      "source": [
        "y[:3]"
      ],
      "execution_count": 101,
      "outputs": [
        {
          "output_type": "execute_result",
          "data": {
            "text/plain": [
              "array([16884.92,  1725.55,  4449.46])"
            ]
          },
          "metadata": {
            "tags": []
          },
          "execution_count": 101
        }
      ]
    },
    {
      "cell_type": "markdown",
      "metadata": {
        "id": "qb_vcgm3qZKW"
      },
      "source": [
        "## Séparation d'entraînement et de test"
      ]
    },
    {
      "cell_type": "code",
      "metadata": {
        "id": "pXgA6CzlqbCl"
      },
      "source": [
        "from sklearn.model_selection import train_test_split\n",
        "X_train, X_test, y_train, y_test = train_test_split(X, y, test_size = 0.2, random_state = 1)"
      ],
      "execution_count": 102,
      "outputs": []
    },
    {
      "cell_type": "markdown",
      "metadata": {
        "id": "gK7I_dhfyvTr"
      },
      "source": [
        "# 1. Multiple Linear Regression"
      ]
    },
    {
      "cell_type": "markdown",
      "metadata": {
        "id": "QKDZd-0w5zSH"
      },
      "source": [
        "**NOTE:** Si vous utilisez la méthode **normale equation** pour trouver les coefs optimaux et intercepter, il n'est pas nécessaire d'utilisez **feature scaling**  bien que, si vous utilisez la **gradient descent**,c'est toujours importante pour obtenir un modèle qui fonctionne rapidement\n",
        "\n",
        "L '«équation normale» est une méthode pour trouver le thêta optimal sans itération.\n",
        "\n",
        "$\\theta = (X^T X)^{-1}X^T y$"
      ]
    },
    {
      "cell_type": "markdown",
      "metadata": {
        "id": "5H1NJOnBAxBZ"
      },
      "source": [
        "1. Linear Regression supprimera automatiquement l'une des variables **dummy** pour éviter le piège. \n",
        "2. On n'a pas besoin d'appliquer des methode comme **backward elimination** le model se chargera automatiquement de sélectionner les fonctionnalités statistiquement significatives lors de l'entraînement du modèle."
      ]
    },
    {
      "cell_type": "markdown",
      "metadata": {
        "id": "Jt8dFVK9y3nz"
      },
      "source": [
        "## Entraînement de la régression linéaire multiple"
      ]
    },
    {
      "cell_type": "code",
      "metadata": {
        "id": "xFyKnn8Zy-E3",
        "colab": {
          "base_uri": "https://localhost:8080/"
        },
        "outputId": "e9583888-cdb9-4b37-9c34-19645edea71b"
      },
      "source": [
        "from sklearn.linear_model import LinearRegression\n",
        "lin_reg = LinearRegression()\n",
        "lin_reg.fit(X_train, y_train)"
      ],
      "execution_count": 103,
      "outputs": [
        {
          "output_type": "execute_result",
          "data": {
            "text/plain": [
              "LinearRegression(copy_X=True, fit_intercept=True, n_jobs=None, normalize=False)"
            ]
          },
          "metadata": {
            "tags": []
          },
          "execution_count": 103
        }
      ]
    },
    {
      "cell_type": "markdown",
      "metadata": {
        "id": "LnJnR28bzQ0m"
      },
      "source": [
        "\n",
        "\n",
        "## Prédiction sur les résultats de l'ensemble du test"
      ]
    },
    {
      "cell_type": "code",
      "metadata": {
        "id": "fG3fnHc8zXHd",
        "colab": {
          "base_uri": "https://localhost:8080/"
        },
        "outputId": "901c39e7-8cbd-4e24-a146-79e5ab947ed4"
      },
      "source": [
        "y_pred = lin_reg.predict(X_test)\n",
        "np.set_printoptions(precision=2)\n",
        "y_pred_y_test = np.concatenate((y_pred.reshape(len(y_pred),1), y_test.reshape(len(y_test),1)),1)\n",
        "print(y_pred_y_test[:5])"
      ],
      "execution_count": 104,
      "outputs": [
        {
          "output_type": "stream",
          "text": [
            "[[ 4312.09  1646.43]\n",
            " [12859.5  11353.23]\n",
            " [12370.5   8798.59]\n",
            " [13549.55 10381.48]\n",
            " [  410.55  2103.08]]\n"
          ],
          "name": "stdout"
        }
      ]
    },
    {
      "cell_type": "markdown",
      "metadata": {
        "id": "FKBgq_IyVzrc"
      },
      "source": [
        "Les prédictions et les valeurs vrais. "
      ]
    },
    {
      "cell_type": "markdown",
      "metadata": {
        "id": "Jt2rPGnezyBU"
      },
      "source": [
        "## Évaluation des performances du modèle"
      ]
    },
    {
      "cell_type": "code",
      "metadata": {
        "colab": {
          "base_uri": "https://localhost:8080/"
        },
        "id": "Y2eCtwTBD80t",
        "outputId": "0e2f7cbe-bf89-4b88-c8de-8455368a0276"
      },
      "source": [
        "accuracy = lin_reg.score(X_test, y_test)\r\n",
        "print('Accuracy = '+ str(accuracy))\r\n",
        "print(r2_score(y_test, y_pred))"
      ],
      "execution_count": 105,
      "outputs": [
        {
          "output_type": "stream",
          "text": [
            "Accuracy = 0.762322402256339\n",
            "0.762322402256339\n"
          ],
          "name": "stdout"
        }
      ]
    },
    {
      "cell_type": "markdown",
      "metadata": {
        "id": "miHXD6jYWYHn"
      },
      "source": [
        ""
      ]
    },
    {
      "cell_type": "markdown",
      "metadata": {
        "id": "soirA4ugKRTL"
      },
      "source": [
        "## Obtenir l'équation de régression linéaire finale avec les valeurs des coefficients"
      ]
    },
    {
      "cell_type": "code",
      "metadata": {
        "id": "HtuCxTkwKVPa",
        "colab": {
          "base_uri": "https://localhost:8080/"
        },
        "outputId": "63f5d4e3-d68d-463b-d87d-7124f5a8d15a"
      },
      "source": [
        "print(lin_reg.coef_)\n",
        "print(lin_reg.intercept_)"
      ],
      "execution_count": 15,
      "outputs": [
        {
          "output_type": "stream",
          "text": [
            "[  258.02  -244.32   315.08   412.24 23766.97  -330.63]\n",
            "-11210.165734543403\n"
          ],
          "name": "stdout"
        }
      ]
    },
    {
      "cell_type": "markdown",
      "metadata": {
        "id": "62Z1ksGM_wrw"
      },
      "source": [
        "# 2. Decision Tree Regression"
      ]
    },
    {
      "cell_type": "markdown",
      "metadata": {
        "id": "pOtAPyTQCiGV"
      },
      "source": [
        "## Séparation d'entraînement et de test\n",
        "\n",
        "\n"
      ]
    },
    {
      "cell_type": "code",
      "metadata": {
        "id": "paIFUpwoCbBe"
      },
      "source": [
        "from sklearn.model_selection import train_test_split\n",
        "X_train, X_test, y_train, y_test = train_test_split(X, y, test_size = 0.2, random_state = 1)"
      ],
      "execution_count": 16,
      "outputs": []
    },
    {
      "cell_type": "markdown",
      "metadata": {
        "id": "4C3QHoofB6r-"
      },
      "source": [
        "## Entrainement du model sur le Training set\n",
        "\n",
        "\n",
        "\n"
      ]
    },
    {
      "cell_type": "code",
      "metadata": {
        "id": "1dOmc_PzBjJw",
        "colab": {
          "base_uri": "https://localhost:8080/"
        },
        "outputId": "e1ed0c0f-c798-418d-929f-1adab33dde3d"
      },
      "source": [
        "from sklearn.tree import DecisionTreeRegressor\n",
        "tree_reg = DecisionTreeRegressor(random_state = 0)\n",
        "tree_reg.fit(X_train, y_train)"
      ],
      "execution_count": 17,
      "outputs": [
        {
          "output_type": "execute_result",
          "data": {
            "text/plain": [
              "DecisionTreeRegressor(ccp_alpha=0.0, criterion='mse', max_depth=None,\n",
              "                      max_features=None, max_leaf_nodes=None,\n",
              "                      min_impurity_decrease=0.0, min_impurity_split=None,\n",
              "                      min_samples_leaf=1, min_samples_split=2,\n",
              "                      min_weight_fraction_leaf=0.0, presort='deprecated',\n",
              "                      random_state=0, splitter='best')"
            ]
          },
          "metadata": {
            "tags": []
          },
          "execution_count": 17
        }
      ]
    },
    {
      "cell_type": "markdown",
      "metadata": {
        "id": "0hFofHuOB8-c"
      },
      "source": [
        "## Prediction"
      ]
    },
    {
      "cell_type": "code",
      "metadata": {
        "id": "WuN6__EyB-Cb",
        "colab": {
          "base_uri": "https://localhost:8080/"
        },
        "outputId": "e76df8b3-2b3e-4d76-9ff1-cb708cbe2c36"
      },
      "source": [
        "y_pred = tree_reg.predict(X_test)\n",
        "np.set_printoptions(precision=2)\n",
        "y_pred_y_test = np.concatenate((y_pred.reshape(len(y_pred),1), y_test.reshape(len(y_test),1)),1)\n",
        "print(y_pred_y_test[:5])"
      ],
      "execution_count": 18,
      "outputs": [
        {
          "output_type": "stream",
          "text": [
            "[[ 1263.25  1646.43]\n",
            " [11842.62 11353.23]\n",
            " [ 8457.82  8798.59]\n",
            " [ 9800.89 10381.48]\n",
            " [ 1964.78  2103.08]]\n"
          ],
          "name": "stdout"
        }
      ]
    },
    {
      "cell_type": "markdown",
      "metadata": {
        "id": "-ChjnNEyB-Sp"
      },
      "source": [
        "## Evaluation du model"
      ]
    },
    {
      "cell_type": "code",
      "metadata": {
        "id": "E_yY8RlpB-gy",
        "colab": {
          "base_uri": "https://localhost:8080/"
        },
        "outputId": "ee6aa462-61eb-49f8-9237-7ccb8d634953"
      },
      "source": [
        "from sklearn.metrics import r2_score\n",
        "r2_score(y_test, y_pred)"
      ],
      "execution_count": 19,
      "outputs": [
        {
          "output_type": "execute_result",
          "data": {
            "text/plain": [
              "0.7500328450750202"
            ]
          },
          "metadata": {
            "tags": []
          },
          "execution_count": 19
        }
      ]
    },
    {
      "cell_type": "markdown",
      "metadata": {
        "id": "td0hDFR7CrD4"
      },
      "source": [
        "# 3. Random Forest Regression"
      ]
    },
    {
      "cell_type": "markdown",
      "metadata": {
        "id": "a9sqIl07CrPG"
      },
      "source": [
        "## Séparation d'entraînement et de test\n"
      ]
    },
    {
      "cell_type": "code",
      "metadata": {
        "id": "JoTRaAEcCrZa"
      },
      "source": [
        "from sklearn.model_selection import train_test_split\n",
        "X_train, X_test, y_train, y_test = train_test_split(X, y, test_size = 0.2, random_state = 0)"
      ],
      "execution_count": 20,
      "outputs": []
    },
    {
      "cell_type": "markdown",
      "metadata": {
        "id": "klGmwhppCriW"
      },
      "source": [
        "## Entrainement du model "
      ]
    },
    {
      "cell_type": "code",
      "metadata": {
        "id": "9ynbuwRPCrqu",
        "colab": {
          "base_uri": "https://localhost:8080/"
        },
        "outputId": "94fc8405-24be-4d5c-f5de-8e33a23d091b"
      },
      "source": [
        "from sklearn.ensemble import RandomForestRegressor\n",
        "forest_reg = RandomForestRegressor(n_estimators = 100, random_state = 0)\n",
        "forest_reg.fit(X_train, y_train)"
      ],
      "execution_count": 21,
      "outputs": [
        {
          "output_type": "execute_result",
          "data": {
            "text/plain": [
              "RandomForestRegressor(bootstrap=True, ccp_alpha=0.0, criterion='mse',\n",
              "                      max_depth=None, max_features='auto', max_leaf_nodes=None,\n",
              "                      max_samples=None, min_impurity_decrease=0.0,\n",
              "                      min_impurity_split=None, min_samples_leaf=1,\n",
              "                      min_samples_split=2, min_weight_fraction_leaf=0.0,\n",
              "                      n_estimators=100, n_jobs=None, oob_score=False,\n",
              "                      random_state=0, verbose=0, warm_start=False)"
            ]
          },
          "metadata": {
            "tags": []
          },
          "execution_count": 21
        }
      ]
    },
    {
      "cell_type": "markdown",
      "metadata": {
        "id": "TIBtUgmWCry-"
      },
      "source": [
        "## Prédiction"
      ]
    },
    {
      "cell_type": "code",
      "metadata": {
        "id": "BZcbQs3yCr6g",
        "colab": {
          "base_uri": "https://localhost:8080/"
        },
        "outputId": "89490b7e-83fa-4b30-9974-78653301b1c7"
      },
      "source": [
        "y_pred = forest_reg.predict(X_test)\n",
        "np.set_printoptions(precision=2)\n",
        "y_pred_y_test = np.concatenate((y_pred.reshape(len(y_pred),1), y_test.reshape(len(y_test),1)),1)\n",
        "print(y_pred_y_test[:5])"
      ],
      "execution_count": 22,
      "outputs": [
        {
          "output_type": "stream",
          "text": [
            "[[11152.11  9724.53]\n",
            " [10264.08  8547.69]\n",
            " [44401.93 45702.02]\n",
            " [13274.34 12950.07]\n",
            " [10396.01  9644.25]]\n"
          ],
          "name": "stdout"
        }
      ]
    },
    {
      "cell_type": "markdown",
      "metadata": {
        "id": "1-IlORGEC8rd"
      },
      "source": [
        "## Evaluating the Model Performance"
      ]
    },
    {
      "cell_type": "code",
      "metadata": {
        "id": "pcwd72Q1C80t",
        "colab": {
          "base_uri": "https://localhost:8080/"
        },
        "outputId": "1a18697c-702d-40b4-d601-79b54e590e16"
      },
      "source": [
        "from sklearn.metrics import r2_score\n",
        "r2_score(y_test, y_pred)"
      ],
      "execution_count": 23,
      "outputs": [
        {
          "output_type": "execute_result",
          "data": {
            "text/plain": [
              "0.870401570321086"
            ]
          },
          "metadata": {
            "tags": []
          },
          "execution_count": 23
        }
      ]
    },
    {
      "cell_type": "markdown",
      "metadata": {
        "id": "-wh1gBAk19Ab"
      },
      "source": [
        "# Analyse "
      ]
    },
    {
      "cell_type": "code",
      "metadata": {
        "colab": {
          "base_uri": "https://localhost:8080/"
        },
        "id": "mrtlOQhHyn3P",
        "outputId": "5e5fdae9-cb67-4fbd-c964-bb316bef23ce"
      },
      "source": [
        "df.corr()['charges'].sort_values()"
      ],
      "execution_count": 24,
      "outputs": [
        {
          "output_type": "execute_result",
          "data": {
            "text/plain": [
              "region     -0.006208\n",
              "sex         0.057292\n",
              "children    0.067998\n",
              "bmi         0.198341\n",
              "age         0.299008\n",
              "smoker      0.787251\n",
              "charges     1.000000\n",
              "Name: charges, dtype: float64"
            ]
          },
          "metadata": {
            "tags": []
          },
          "execution_count": 24
        }
      ]
    },
    {
      "cell_type": "code",
      "metadata": {
        "colab": {
          "base_uri": "https://localhost:8080/",
          "height": 486
        },
        "id": "o_8Mys4M9F6F",
        "outputId": "9b41bcc6-b8ee-4728-f828-c851f0a95245"
      },
      "source": [
        "plt.figure(figsize=(12,8))\r\n",
        "ax = sns.heatmap(df.corr(),annot=True, cmap=plt.cm.Reds)\r\n",
        "plt.show()"
      ],
      "execution_count": 25,
      "outputs": [
        {
          "output_type": "display_data",
          "data": {
            "image/png": "[encoded data removed]",
            "text/plain": [
              "<Figure size 864x576 with 2 Axes>"
            ]
          },
          "metadata": {
            "tags": [],
            "needs_background": "light"
          }
        }
      ]
    },
    {
      "cell_type": "code",
      "metadata": {
        "id": "ESTt_dg_CxpN"
      },
      "source": [
        "# Pour les features. On n'a pas des variables correlées entre eux \r\n",
        "# age, bmi et smoker ont plus de correlation avec charges "
      ],
      "execution_count": null,
      "outputs": []
    },
    {
      "cell_type": "markdown",
      "metadata": {
        "id": "-jbitbUhwFdS"
      },
      "source": [
        "Un box plot (appelé aussi une boîte à moustaches) est un graphique utilisé fréquemment pour l’exploration des données. Il permet de visualiser pour une variable ou pour un groupe d’individus le comportement global des individus.\n",
        "Ce graphique est composé d’une boîte (box). Ses côtés supérieurs et inférieurs représentent les quartiles des données. Elle est coupée en deux par une ligne qui représente la médiane. De plus, des moustaches (des barres) se situent au dessus et en dessous de la boîte.\n",
        "Reflète à la fois la tendance centrale et une idée de la distribution des données. Ce graphique est surtout intéressant lorsqu’on essaye de comparer des variables sur des échelles similaires ou lorsqu’on essaye de comparer des groupes d’individus sur la même variable.\n",
        "Seaborn va nous permettre de le faire en utilisant la fonction sns. boxplot().\n",
        "Par ailleurs, les losanges ajoutés sur le graphique sont les valeurs extrêmes, il s’agit des valeurs se trouvant au-delà des moustaches et qui méritent notre attention.\n"
      ]
    },
    {
      "cell_type": "code",
      "metadata": {
        "colab": {
          "base_uri": "https://localhost:8080/",
          "height": 368
        },
        "id": "DQ5hRroHUWka",
        "outputId": "df8d92ba-9d6c-4a2f-b4d5-80d8e6bc704f"
      },
      "source": [
        "# Pour voir si la distribution de 'bmi' est normal ou pas \r\n",
        "sns.displot(df['bmi'])\r\n",
        "plt.show()"
      ],
      "execution_count": 26,
      "outputs": [
        {
          "output_type": "display_data",
          "data": {
            "image/png": "[encoded data removed]",
            "text/plain": [
              "<Figure size 360x360 with 1 Axes>"
            ]
          },
          "metadata": {
            "tags": [],
            "needs_background": "light"
          }
        }
      ]
    },
    {
      "cell_type": "markdown",
      "metadata": {
        "id": "DCalHuj02Zn7"
      },
      "source": [
        "- il a une distribution normal"
      ]
    },
    {
      "cell_type": "code",
      "metadata": {
        "colab": {
          "base_uri": "https://localhost:8080/",
          "height": 278
        },
        "id": "2nA535L0cFvo",
        "outputId": "a27ada79-e54e-40c9-c0a4-ec14d381369b"
      },
      "source": [
        "sns.scatterplot(x=df['bmi'],y=df['charges'])\r\n",
        "sns.regplot(x=df['bmi'],y=df['charges'])\r\n",
        "plt.show()"
      ],
      "execution_count": 27,
      "outputs": [
        {
          "output_type": "display_data",
          "data": {
            "image/png": "[encoded data removed]",
            "text/plain": [
              "<Figure size 432x288 with 1 Axes>"
            ]
          },
          "metadata": {
            "tags": [],
            "needs_background": "light"
          }
        }
      ]
    },
    {
      "cell_type": "markdown",
      "metadata": {
        "id": "iCLRsVPmcfTE"
      },
      "source": [
        "- BMI et les frais d'assurance sont un peu positivement corrélés,"
      ]
    },
    {
      "cell_type": "code",
      "metadata": {
        "colab": {
          "base_uri": "https://localhost:8080/",
          "height": 496
        },
        "id": "aAOtBYodynuK",
        "outputId": "ed00fa00-2988-4c56-9fa8-729689040ca2"
      },
      "source": [
        "plt.figure(figsize=(14,8))\r\n",
        "sns.boxplot(x=\"region\", y=\"charges\", data=df)\r\n",
        "plt.show()"
      ],
      "execution_count": 28,
      "outputs": [
        {
          "output_type": "display_data",
          "data": {
            "image/png": "[encoded data removed]",
            "text/plain": [
              "<Figure size 1008x576 with 1 Axes>"
            ]
          },
          "metadata": {
            "tags": [],
            "needs_background": "light"
          }
        }
      ]
    },
    {
      "cell_type": "markdown",
      "metadata": {
        "id": "hIF_N6O_2k3J"
      },
      "source": [
        "- il n'y a pas beaucoup de differences entre les region"
      ]
    },
    {
      "cell_type": "code",
      "metadata": {
        "colab": {
          "base_uri": "https://localhost:8080/",
          "height": 496
        },
        "id": "-fUTyi2_ynpn",
        "outputId": "8ae1ea31-64e4-4869-b140-718113926aae"
      },
      "source": [
        "plt.figure(figsize=(14,8))\r\n",
        "sns.boxplot(x=\"sex\", y=\"charges\", data=df)\r\n",
        "plt.show()"
      ],
      "execution_count": 29,
      "outputs": [
        {
          "output_type": "display_data",
          "data": {
            "image/png": "[encoded data removed]",
            "text/plain": [
              "<Figure size 1008x576 with 1 Axes>"
            ]
          },
          "metadata": {
            "tags": [],
            "needs_background": "light"
          }
        }
      ]
    },
    {
      "cell_type": "markdown",
      "metadata": {
        "id": "pmxXPNB32v5t"
      },
      "source": [
        "- pour les 'sex' aussi "
      ]
    },
    {
      "cell_type": "code",
      "metadata": {
        "colab": {
          "base_uri": "https://localhost:8080/",
          "height": 496
        },
        "id": "v-bnr_K6918m",
        "outputId": "578394ea-e219-4645-d1e2-65799b894595"
      },
      "source": [
        "plt.figure(figsize=(18,8))\r\n",
        "sns.boxplot(x=\"children\", y=\"charges\", data=df, )\r\n",
        "plt.show()"
      ],
      "execution_count": 30,
      "outputs": [
        {
          "output_type": "display_data",
          "data": {
            "image/png": "[encoded data removed]",
            "text/plain": [
              "<Figure size 1296x576 with 1 Axes>"
            ]
          },
          "metadata": {
            "tags": [],
            "needs_background": "light"
          }
        }
      ]
    },
    {
      "cell_type": "code",
      "metadata": {
        "colab": {
          "base_uri": "https://localhost:8080/",
          "height": 496
        },
        "id": "3knBk8uur5-q",
        "outputId": "7c3d5e81-d76a-4ef9-d0d3-7890f3b80434"
      },
      "source": [
        "plt.figure(figsize=(18,8))\n",
        "sns.boxplot(x=\"smoker\", y=\"charges\", data=df)\n",
        "plt.show()"
      ],
      "execution_count": 31,
      "outputs": [
        {
          "output_type": "display_data",
          "data": {
            "image/png": "[encoded data removed]",
            "text/plain": [
              "<Figure size 1296x576 with 1 Axes>"
            ]
          },
          "metadata": {
            "tags": [],
            "needs_background": "light"
          }
        }
      ]
    },
    {
      "cell_type": "code",
      "metadata": {
        "colab": {
          "base_uri": "https://localhost:8080/",
          "height": 278
        },
        "id": "GQXtGfYSe45I",
        "outputId": "d903cee1-4f77-47e7-f0d2-d961d64977ff"
      },
      "source": [
        "sns.scatterplot(y = 'charges', x = 'bmi', hue='smoker', data=df)\r\n",
        "plt.show()"
      ],
      "execution_count": 81,
      "outputs": [
        {
          "output_type": "display_data",
          "data": {
            "image/png": "[encoded data removed]",
            "text/plain": [
              "<Figure size 432x288 with 1 Axes>"
            ]
          },
          "metadata": {
            "tags": [],
            "needs_background": "light"
          }
        }
      ]
    },
    {
      "cell_type": "markdown",
      "metadata": {
        "id": "beGEA6sn22BA"
      },
      "source": [
        "- les personnes qui ont 5 enfant ont tendance d'avoir moins de charges "
      ]
    },
    {
      "cell_type": "code",
      "metadata": {
        "colab": {
          "base_uri": "https://localhost:8080/",
          "height": 278
        },
        "id": "Qahf96gybYDn",
        "outputId": "09ab548d-4733-4427-9bdb-d04671b28da0"
      },
      "source": [
        "sns.scatterplot(x=df['age'],y=df['charges'])\r\n",
        "sns.regplot(x=df['age'],y=df['charges'])\r\n",
        "plt.show()"
      ],
      "execution_count": 32,
      "outputs": [
        {
          "output_type": "display_data",
          "data": {
            "image/png": "[encoded data removed]",
            "text/plain": [
              "<Figure size 432x288 with 1 Axes>"
            ]
          },
          "metadata": {
            "tags": [],
            "needs_background": "light"
          }
        }
      ]
    },
    {
      "cell_type": "markdown",
      "metadata": {
        "id": "_0FwlI7Kb2bJ"
      },
      "source": [
        "- les personnes âgées ont tendance à payer un peu plus"
      ]
    },
    {
      "cell_type": "code",
      "metadata": {
        "colab": {
          "base_uri": "https://localhost:8080/",
          "height": 368
        },
        "id": "rIfB1IuksuIT",
        "outputId": "5652e739-07ca-47cd-be9a-fa7b8dcc6742"
      },
      "source": [
        "sns.displot(df['age'])\n",
        "plt.show()"
      ],
      "execution_count": 33,
      "outputs": [
        {
          "output_type": "display_data",
          "data": {
            "image/png": "[encoded data removed]",
            "text/plain": [
              "<Figure size 360x360 with 1 Axes>"
            ]
          },
          "metadata": {
            "tags": [],
            "needs_background": "light"
          }
        }
      ]
    },
    {
      "cell_type": "markdown",
      "metadata": {
        "id": "4UFslNfs2-_h"
      },
      "source": [
        "# Feature Engineering"
      ]
    },
    {
      "cell_type": "markdown",
      "metadata": {
        "id": "lHVmZ0cL5UTP"
      },
      "source": [
        "- Pour generalize notre model, on peut faire des groupes pour certaines features "
      ]
    },
    {
      "cell_type": "code",
      "metadata": {
        "id": "6rTgFuG031H4"
      },
      "source": [
        "df_1 = data.copy()"
      ],
      "execution_count": 144,
      "outputs": []
    },
    {
      "cell_type": "markdown",
      "metadata": {
        "id": "JZ_IagW356xS"
      },
      "source": [
        "- Normallement on peut attendre que BMI aura plus de correlation avec des charges \r\n",
        "- On peut essayer de faire des groupes pour generalizer notre model \r\n",
        "- on peut faire 4 groupes"
      ]
    },
    {
      "cell_type": "code",
      "metadata": {
        "id": "1D6Xygts31Fn"
      },
      "source": [
        "df_1.loc[df_1['bmi']<25, 'bmi_class'] = 1\r\n",
        "df_1.loc[(df_1['bmi']<30) & (df_1['bmi']>=25), 'bmi_class'] = 2\r\n",
        "df_1.loc[(df_1['bmi']<40) & (df_1['bmi']>=30), 'bmi_class'] = 3\r\n",
        "df_1.loc[df_1['bmi']>=40, 'bmi_class'] = 4"
      ],
      "execution_count": 145,
      "outputs": []
    },
    {
      "cell_type": "markdown",
      "metadata": {
        "id": "5-DSpdL84LNW"
      },
      "source": [
        "- On peut faire la meme chose pour l'age\r\n",
        "- 3 groupes"
      ]
    },
    {
      "cell_type": "code",
      "metadata": {
        "id": "_x0jmol331DF"
      },
      "source": [
        "df_1.loc[(df_1['age']<31) & (df_1['age']>=18), 'age_class'] = 1\r\n",
        "df_1.loc[(df_1['age']<51) & (df_1['age']>=31), 'age_class'] = 2\r\n",
        "df_1.loc[df_1['age']>=51, 'age_class'] = 3"
      ],
      "execution_count": 146,
      "outputs": []
    },
    {
      "cell_type": "code",
      "metadata": {
        "id": "70YCJVZuA5CQ"
      },
      "source": [
        "df_1 = df_1.drop(columns=['bmi', 'age'], axis=1)"
      ],
      "execution_count": 147,
      "outputs": []
    },
    {
      "cell_type": "code",
      "metadata": {
        "colab": {
          "base_uri": "https://localhost:8080/",
          "height": 77
        },
        "id": "YwKnxq6k31A3",
        "outputId": "75425699-6a9d-4f2b-a64e-7059d72e6e69"
      },
      "source": [
        "df_1.head(1)"
      ],
      "execution_count": 148,
      "outputs": [
        {
          "output_type": "execute_result",
          "data": {
            "text/html": [
              "<div>\n",
              "<style scoped>\n",
              "    .dataframe tbody tr th:only-of-type {\n",
              "        vertical-align: middle;\n",
              "    }\n",
              "\n",
              "    .dataframe tbody tr th {\n",
              "        vertical-align: top;\n",
              "    }\n",
              "\n",
              "    .dataframe thead th {\n",
              "        text-align: right;\n",
              "    }\n",
              "</style>\n",
              "<table border=\"1\" class=\"dataframe\">\n",
              "  <thead>\n",
              "    <tr style=\"text-align: right;\">\n",
              "      <th></th>\n",
              "      <th>sex</th>\n",
              "      <th>children</th>\n",
              "      <th>smoker</th>\n",
              "      <th>region</th>\n",
              "      <th>charges</th>\n",
              "      <th>bmi_class</th>\n",
              "      <th>age_class</th>\n",
              "    </tr>\n",
              "  </thead>\n",
              "  <tbody>\n",
              "    <tr>\n",
              "      <th>0</th>\n",
              "      <td>female</td>\n",
              "      <td>0</td>\n",
              "      <td>yes</td>\n",
              "      <td>southwest</td>\n",
              "      <td>16884.924</td>\n",
              "      <td>2.0</td>\n",
              "      <td>1.0</td>\n",
              "    </tr>\n",
              "  </tbody>\n",
              "</table>\n",
              "</div>"
            ],
            "text/plain": [
              "      sex  children smoker     region    charges  bmi_class  age_class\n",
              "0  female         0    yes  southwest  16884.924        2.0        1.0"
            ]
          },
          "metadata": {
            "tags": []
          },
          "execution_count": 148
        }
      ]
    },
    {
      "cell_type": "code",
      "metadata": {
        "id": "HD72fBcmCHzB"
      },
      "source": [
        "from sklearn.preprocessing import LabelEncoder\r\n",
        "le = LabelEncoder()\r\n",
        "df_1.iloc[:, 0] = le.fit_transform(df_1.iloc[:, 0])\r\n",
        "df_1.iloc[:, 2] = le.fit_transform(df_1.iloc[:, 2])\r\n",
        "df_1.iloc[:, 3] = le.fit_transform(df_1.iloc[:, 3])"
      ],
      "execution_count": 149,
      "outputs": []
    },
    {
      "cell_type": "code",
      "metadata": {
        "colab": {
          "base_uri": "https://localhost:8080/",
          "height": 77
        },
        "id": "Lpfirvz9Cbva",
        "outputId": "8c57f171-27f0-42ed-dc80-66774ce6ab89"
      },
      "source": [
        "df_1.head(1)"
      ],
      "execution_count": 150,
      "outputs": [
        {
          "output_type": "execute_result",
          "data": {
            "text/html": [
              "<div>\n",
              "<style scoped>\n",
              "    .dataframe tbody tr th:only-of-type {\n",
              "        vertical-align: middle;\n",
              "    }\n",
              "\n",
              "    .dataframe tbody tr th {\n",
              "        vertical-align: top;\n",
              "    }\n",
              "\n",
              "    .dataframe thead th {\n",
              "        text-align: right;\n",
              "    }\n",
              "</style>\n",
              "<table border=\"1\" class=\"dataframe\">\n",
              "  <thead>\n",
              "    <tr style=\"text-align: right;\">\n",
              "      <th></th>\n",
              "      <th>sex</th>\n",
              "      <th>children</th>\n",
              "      <th>smoker</th>\n",
              "      <th>region</th>\n",
              "      <th>charges</th>\n",
              "      <th>bmi_class</th>\n",
              "      <th>age_class</th>\n",
              "    </tr>\n",
              "  </thead>\n",
              "  <tbody>\n",
              "    <tr>\n",
              "      <th>0</th>\n",
              "      <td>0</td>\n",
              "      <td>0</td>\n",
              "      <td>1</td>\n",
              "      <td>3</td>\n",
              "      <td>16884.924</td>\n",
              "      <td>2.0</td>\n",
              "      <td>1.0</td>\n",
              "    </tr>\n",
              "  </tbody>\n",
              "</table>\n",
              "</div>"
            ],
            "text/plain": [
              "   sex  children  smoker  region    charges  bmi_class  age_class\n",
              "0    0         0       1       3  16884.924        2.0        1.0"
            ]
          },
          "metadata": {
            "tags": []
          },
          "execution_count": 150
        }
      ]
    },
    {
      "cell_type": "code",
      "metadata": {
        "id": "pC3yD552BHCF"
      },
      "source": [
        "X = df_1.drop(['charges'], axis=1).values\r\n",
        "y = df_1['charges'].values"
      ],
      "execution_count": 151,
      "outputs": []
    },
    {
      "cell_type": "code",
      "metadata": {
        "colab": {
          "base_uri": "https://localhost:8080/"
        },
        "id": "0-G4BbRTBNqi",
        "outputId": "dad467f4-16f5-4f50-92f8-f1c1eec37a1d"
      },
      "source": [
        "X[:3]"
      ],
      "execution_count": 152,
      "outputs": [
        {
          "output_type": "execute_result",
          "data": {
            "text/plain": [
              "array([[0., 0., 1., 3., 2., 1.],\n",
              "       [1., 1., 0., 2., 3., 1.],\n",
              "       [1., 3., 0., 2., 3., 1.]])"
            ]
          },
          "metadata": {
            "tags": []
          },
          "execution_count": 152
        }
      ]
    },
    {
      "cell_type": "code",
      "metadata": {
        "colab": {
          "base_uri": "https://localhost:8080/"
        },
        "id": "_W9-YIMUBNmE",
        "outputId": "5460a113-4dc0-44fc-f9de-b05f0cb31c7c"
      },
      "source": [
        "y[:3]"
      ],
      "execution_count": 153,
      "outputs": [
        {
          "output_type": "execute_result",
          "data": {
            "text/plain": [
              "array([16884.92,  1725.55,  4449.46])"
            ]
          },
          "metadata": {
            "tags": []
          },
          "execution_count": 153
        }
      ]
    },
    {
      "cell_type": "markdown",
      "metadata": {
        "id": "koAQ5_-U_zzV"
      },
      "source": [
        "# 2B. Decision Tree Regression Feature Importance"
      ]
    },
    {
      "cell_type": "markdown",
      "metadata": {
        "id": "5bNJX9Zd_zzi"
      },
      "source": [
        "## Splitting the dataset into the Training set and Test set"
      ]
    },
    {
      "cell_type": "code",
      "metadata": {
        "id": "THFBN1Av_zzo"
      },
      "source": [
        "from sklearn.model_selection import train_test_split\n",
        "X_train, X_test, y_train, y_test = train_test_split(X, y, test_size = 0.2, random_state = 1)"
      ],
      "execution_count": 154,
      "outputs": []
    },
    {
      "cell_type": "markdown",
      "metadata": {
        "id": "-hFbzru-_zzq"
      },
      "source": [
        "## Training the Decision Tree Regression model on the Training set"
      ]
    },
    {
      "cell_type": "code",
      "metadata": {
        "colab": {
          "base_uri": "https://localhost:8080/"
        },
        "id": "w76lEtOk_zzq",
        "outputId": "dd76f2e4-516e-44e4-e993-545272d53cd2"
      },
      "source": [
        "from sklearn.tree import DecisionTreeRegressor\n",
        "tree_reg = DecisionTreeRegressor(random_state = 0)\n",
        "tree_reg.fit(X_train, y_train)"
      ],
      "execution_count": 155,
      "outputs": [
        {
          "output_type": "execute_result",
          "data": {
            "text/plain": [
              "DecisionTreeRegressor(ccp_alpha=0.0, criterion='mse', max_depth=None,\n",
              "                      max_features=None, max_leaf_nodes=None,\n",
              "                      min_impurity_decrease=0.0, min_impurity_split=None,\n",
              "                      min_samples_leaf=1, min_samples_split=2,\n",
              "                      min_weight_fraction_leaf=0.0, presort='deprecated',\n",
              "                      random_state=0, splitter='best')"
            ]
          },
          "metadata": {
            "tags": []
          },
          "execution_count": 155
        }
      ]
    },
    {
      "cell_type": "code",
      "metadata": {
        "colab": {
          "base_uri": "https://localhost:8080/",
          "height": 371
        },
        "id": "NOZq2s3DAClt",
        "outputId": "903aa9b8-4ea5-456b-b761-39e3f2b77986"
      },
      "source": [
        "importance = tree_reg.feature_importances_\r\n",
        "# summarize feature importance\r\n",
        "for i,v in enumerate(importance):\r\n",
        "\tprint('Feature: %0d, Score: %.5f' % (i,v))\r\n",
        "# plot feature importance\r\n",
        "plt.bar([x for x in range(len(importance))], importance)\r\n",
        "plt.show()"
      ],
      "execution_count": 156,
      "outputs": [
        {
          "output_type": "stream",
          "text": [
            "Feature: 0, Score: 0.01014\n",
            "Feature: 1, Score: 0.02332\n",
            "Feature: 2, Score: 0.68020\n",
            "Feature: 3, Score: 0.02042\n",
            "Feature: 4, Score: 0.17409\n",
            "Feature: 5, Score: 0.09183\n"
          ],
          "name": "stdout"
        },
        {
          "output_type": "display_data",
          "data": {
            "image/png": "[encoded data removed]",
            "text/plain": [
              "<Figure size 432x288 with 1 Axes>"
            ]
          },
          "metadata": {
            "tags": [],
            "needs_background": "light"
          }
        }
      ]
    },
    {
      "cell_type": "markdown",
      "metadata": {
        "id": "dnCw8Gg5D8AQ"
      },
      "source": [
        "- **sex**, **children**, **region** ont pas beaucoup d'importance"
      ]
    },
    {
      "cell_type": "markdown",
      "metadata": {
        "id": "gb610HHj_zzs"
      },
      "source": [
        "## Predicting the Test set results"
      ]
    },
    {
      "cell_type": "code",
      "metadata": {
        "colab": {
          "base_uri": "https://localhost:8080/"
        },
        "id": "N-979roN_zzt",
        "outputId": "2e79cc4f-40ec-4c07-e933-ecc35f6efa38"
      },
      "source": [
        "y_pred = tree_reg.predict(X_test)\n",
        "np.set_printoptions(precision=2)\n",
        "y_pred_y_test = np.concatenate((y_pred.reshape(len(y_pred),1), y_test.reshape(len(y_test),1)),1)\n",
        "print(y_pred_y_test[:5])"
      ],
      "execution_count": 157,
      "outputs": [
        {
          "output_type": "stream",
          "text": [
            "[[ 4436.44  1646.43]\n",
            " [13068.34 11353.23]\n",
            " [13485.35  8798.59]\n",
            " [ 7682.67 10381.48]\n",
            " [ 1901.01  2103.08]]\n"
          ],
          "name": "stdout"
        }
      ]
    },
    {
      "cell_type": "markdown",
      "metadata": {
        "id": "gtoQlHWc_zzu"
      },
      "source": [
        "## Evaluating the Model Performance"
      ]
    },
    {
      "cell_type": "code",
      "metadata": {
        "colab": {
          "base_uri": "https://localhost:8080/"
        },
        "id": "BfoyJm4d_zzu",
        "outputId": "6e42c87d-4cc3-414b-84d5-8f5ffefa9751"
      },
      "source": [
        "#Test set\n",
        "from sklearn.metrics import r2_score\n",
        "r2_score(y_test, y_pred)"
      ],
      "execution_count": 158,
      "outputs": [
        {
          "output_type": "execute_result",
          "data": {
            "text/plain": [
              "0.8135668147080114"
            ]
          },
          "metadata": {
            "tags": []
          },
          "execution_count": 158
        }
      ]
    },
    {
      "cell_type": "code",
      "metadata": {
        "colab": {
          "base_uri": "https://localhost:8080/"
        },
        "id": "H2xqaKeADG41",
        "outputId": "c9732920-3590-40ba-d6b8-711fb7a7f0d2"
      },
      "source": [
        "# Train set\r\n",
        "y_pred_train = tree_reg.predict(X_train)\r\n",
        "r2_score(y_train, y_pred_train)"
      ],
      "execution_count": 159,
      "outputs": [
        {
          "output_type": "execute_result",
          "data": {
            "text/plain": [
              "0.9128386185703199"
            ]
          },
          "metadata": {
            "tags": []
          },
          "execution_count": 159
        }
      ]
    },
    {
      "cell_type": "code",
      "metadata": {
        "colab": {
          "base_uri": "https://localhost:8080/"
        },
        "id": "n-KrB1nmDzAM",
        "outputId": "438e4338-9de1-48c6-f60d-d3dcf799cd0c"
      },
      "source": [
        "# Si on prends des tous les features sauf sex\r\n",
        "X_import = X[:, 1:]\r\n",
        "\r\n",
        "X_train, X_test, y_train, y_test = train_test_split(X_import, y, test_size = 0.2, random_state = 1)\r\n",
        "\r\n",
        "tree_reg = DecisionTreeRegressor(random_state = 1)\r\n",
        "tree_reg.fit(X_train, y_train)\r\n",
        "\r\n",
        "y_pred_i = tree_reg.predict(X_test)\r\n",
        "r2_score(y_test, y_pred_i)"
      ],
      "execution_count": 160,
      "outputs": [
        {
          "output_type": "execute_result",
          "data": {
            "text/plain": [
              "0.8330058350063501"
            ]
          },
          "metadata": {
            "tags": []
          },
          "execution_count": 160
        }
      ]
    },
    {
      "cell_type": "code",
      "metadata": {
        "colab": {
          "base_uri": "https://localhost:8080/"
        },
        "id": "Chu5gH2mGtYb",
        "outputId": "455f0212-a312-4e28-c4cc-c0827f608530"
      },
      "source": [
        "# Si on prends des features important (age_class, bmi_class, smoker)\r\n",
        "X_import = X[:, (2,4,5)]\r\n",
        "\r\n",
        "X_train, X_test, y_train, y_test = train_test_split(X_import, y, test_size = 0.2, random_state = 1)\r\n",
        "\r\n",
        "tree_reg = DecisionTreeRegressor(random_state = 1)\r\n",
        "tree_reg.fit(X_train, y_train)\r\n",
        "\r\n",
        "y_pred_i = tree_reg.predict(X_test)\r\n",
        "r2_score(y_test, y_pred_i)"
      ],
      "execution_count": 161,
      "outputs": [
        {
          "output_type": "execute_result",
          "data": {
            "text/plain": [
              "0.8652905206441219"
            ]
          },
          "metadata": {
            "tags": []
          },
          "execution_count": 161
        }
      ]
    },
    {
      "cell_type": "code",
      "metadata": {
        "colab": {
          "base_uri": "https://localhost:8080/",
          "height": 294
        },
        "id": "z5Qpi7_ebVp7",
        "outputId": "aee499ac-7037-43e8-d35c-fdae4bccf69d"
      },
      "source": [
        "plt.scatter(y_test, y_pred_i)\r\n",
        "plt.title('Les valeurs réel et les Prediction')\r\n",
        "plt.xlabel(\"Y Test\")\r\n",
        "plt.ylabel(\"Y Predicted\")\r\n",
        "plt.show()"
      ],
      "execution_count": 162,
      "outputs": [
        {
          "output_type": "display_data",
          "data": {
            "image/png": "[encoded data removed]",
            "text/plain": [
              "<Figure size 432x288 with 1 Axes>"
            ]
          },
          "metadata": {
            "tags": [],
            "needs_background": "light"
          }
        }
      ]
    },
    {
      "cell_type": "code",
      "metadata": {
        "colab": {
          "base_uri": "https://localhost:8080/",
          "height": 281
        },
        "id": "LNp-NkmnbvBJ",
        "outputId": "1a8b1686-451d-4ef9-c679-9642bb8020a3"
      },
      "source": [
        "sns.distplot((y_test - y_pred_i), bins=10)\r\n",
        "plt.title('Residual Histogram')\r\n",
        "plt.show()"
      ],
      "execution_count": 163,
      "outputs": [
        {
          "output_type": "display_data",
          "data": {
            "image/png": "[encoded data removed]",
            "text/plain": [
              "<Figure size 432x288 with 1 Axes>"
            ]
          },
          "metadata": {
            "tags": [],
            "needs_background": "light"
          }
        }
      ]
    },
    {
      "cell_type": "markdown",
      "metadata": {
        "id": "yFn6B7DJJr_g"
      },
      "source": [
        "# 3B. Random Forest Regression Feature Importance"
      ]
    },
    {
      "cell_type": "markdown",
      "metadata": {
        "id": "xtU4s59tJr_t"
      },
      "source": [
        "## Splitting the dataset into the Training set and Test set\n"
      ]
    },
    {
      "cell_type": "code",
      "metadata": {
        "id": "MmsmLRwLJr_v"
      },
      "source": [
        "from sklearn.model_selection import train_test_split\n",
        "X_train, X_test, y_train, y_test = train_test_split(X, y, test_size = 0.2, random_state = 0)"
      ],
      "execution_count": 164,
      "outputs": []
    },
    {
      "cell_type": "markdown",
      "metadata": {
        "id": "-VoRavV5Jr_w"
      },
      "source": [
        "## Training the Random Forest Regression model on the whole dataset"
      ]
    },
    {
      "cell_type": "code",
      "metadata": {
        "colab": {
          "base_uri": "https://localhost:8080/"
        },
        "id": "2VrIYVuXJr_x",
        "outputId": "a956ee21-bbb7-4adf-e93c-037497868495"
      },
      "source": [
        "from sklearn.ensemble import RandomForestRegressor\n",
        "forest_reg = RandomForestRegressor(n_estimators = 100, random_state = 0)\n",
        "forest_reg.fit(X_train, y_train)"
      ],
      "execution_count": 165,
      "outputs": [
        {
          "output_type": "execute_result",
          "data": {
            "text/plain": [
              "RandomForestRegressor(bootstrap=True, ccp_alpha=0.0, criterion='mse',\n",
              "                      max_depth=None, max_features='auto', max_leaf_nodes=None,\n",
              "                      max_samples=None, min_impurity_decrease=0.0,\n",
              "                      min_impurity_split=None, min_samples_leaf=1,\n",
              "                      min_samples_split=2, min_weight_fraction_leaf=0.0,\n",
              "                      n_estimators=100, n_jobs=None, oob_score=False,\n",
              "                      random_state=0, verbose=0, warm_start=False)"
            ]
          },
          "metadata": {
            "tags": []
          },
          "execution_count": 165
        }
      ]
    },
    {
      "cell_type": "code",
      "metadata": {
        "colab": {
          "base_uri": "https://localhost:8080/",
          "height": 371
        },
        "id": "1lx1wZmbK2lf",
        "outputId": "ca265744-8559-4c91-9052-17daf378e007"
      },
      "source": [
        "importance = forest_reg.feature_importances_\r\n",
        "# summarize feature importance\r\n",
        "for i,v in enumerate(importance):\r\n",
        "\tprint('Feature: %0d, Score: %.5f' % (i,v))\r\n",
        "# plot feature importance\r\n",
        "plt.bar([x for x in range(len(importance))], importance)\r\n",
        "plt.show()"
      ],
      "execution_count": 166,
      "outputs": [
        {
          "output_type": "stream",
          "text": [
            "Feature: 0, Score: 0.01466\n",
            "Feature: 1, Score: 0.03152\n",
            "Feature: 2, Score: 0.65271\n",
            "Feature: 3, Score: 0.02576\n",
            "Feature: 4, Score: 0.18161\n",
            "Feature: 5, Score: 0.09374\n"
          ],
          "name": "stdout"
        },
        {
          "output_type": "display_data",
          "data": {
            "image/png": "[encoded data removed]",
            "text/plain": [
              "<Figure size 432x288 with 1 Axes>"
            ]
          },
          "metadata": {
            "tags": [],
            "needs_background": "light"
          }
        }
      ]
    },
    {
      "cell_type": "markdown",
      "metadata": {
        "id": "qmXSShjwJr_z"
      },
      "source": [
        "## Predicting the Test set results"
      ]
    },
    {
      "cell_type": "code",
      "metadata": {
        "colab": {
          "base_uri": "https://localhost:8080/"
        },
        "id": "gcThqz8JJr_0",
        "outputId": "86f0e427-b5ff-4d28-e46b-c2b7b660172e"
      },
      "source": [
        "y_pred = forest_reg.predict(X_test)\n",
        "np.set_printoptions(precision=2)\n",
        "y_pred_y_test = np.concatenate((y_pred.reshape(len(y_pred),1), y_test.reshape(len(y_test),1)),1)\n",
        "print(y_pred_y_test[:5])"
      ],
      "execution_count": 167,
      "outputs": [
        {
          "output_type": "stream",
          "text": [
            "[[10454.74  9724.53]\n",
            " [ 6060.68  8547.69]\n",
            " [44211.97 45702.02]\n",
            " [12647.25 12950.07]\n",
            " [12515.01  9644.25]]\n"
          ],
          "name": "stdout"
        }
      ]
    },
    {
      "cell_type": "markdown",
      "metadata": {
        "id": "pel8HiaxJr_0"
      },
      "source": [
        "## Evaluating the Model Performance"
      ]
    },
    {
      "cell_type": "code",
      "metadata": {
        "colab": {
          "base_uri": "https://localhost:8080/"
        },
        "id": "aX5A3A-PJr_1",
        "outputId": "ad997314-3605-49c0-c90e-dacaf4614b86"
      },
      "source": [
        "from sklearn.metrics import r2_score\n",
        "r2_score(y_test, y_pred)"
      ],
      "execution_count": 168,
      "outputs": [
        {
          "output_type": "execute_result",
          "data": {
            "text/plain": [
              "0.8570419900349099"
            ]
          },
          "metadata": {
            "tags": []
          },
          "execution_count": 168
        }
      ]
    },
    {
      "cell_type": "code",
      "metadata": {
        "id": "jZUvUxZkDysu",
        "colab": {
          "base_uri": "https://localhost:8080/"
        },
        "outputId": "3d17ee37-1e0f-47a5-d09e-2248e1781aec"
      },
      "source": [
        "# Si on prends des features important (age_class, bmi_class, smoker)\r\n",
        "X_import = X[:, (2,4,5)]\r\n",
        "\r\n",
        "X_train, X_test, y_train, y_test = train_test_split(X_import, y, test_size = 0.2, random_state = 1)\r\n",
        "\r\n",
        "forest_reg = RandomForestRegressor(n_estimators = 100, random_state = 0)\r\n",
        "forest_reg.fit(X_train, y_train)\r\n",
        "\r\n",
        "y_pred = forest_reg.predict(X_test)\r\n",
        "r2_score(y_test, y_pred)"
      ],
      "execution_count": 169,
      "outputs": [
        {
          "output_type": "execute_result",
          "data": {
            "text/plain": [
              "0.8652368176179308"
            ]
          },
          "metadata": {
            "tags": []
          },
          "execution_count": 169
        }
      ]
    },
    {
      "cell_type": "code",
      "metadata": {
        "id": "Coz_d36LDypw",
        "colab": {
          "base_uri": "https://localhost:8080/"
        },
        "outputId": "ba32c2d4-38ac-4e3a-d9db-eb641f819abc"
      },
      "source": [
        "# Si on prends des tous les features sauf sex\r\n",
        "X_import = X[:, 1:]\r\n",
        "\r\n",
        "X_train, X_test, y_train, y_test = train_test_split(X_import, y, test_size = 0.2, random_state = 1)\r\n",
        "\r\n",
        "forest_reg = RandomForestRegressor(n_estimators = 100, random_state = 0)\r\n",
        "forest_reg.fit(X_train, y_train)\r\n",
        "\r\n",
        "y_pred = forest_reg.predict(X_test)\r\n",
        "r2_score(y_test, y_pred)"
      ],
      "execution_count": 170,
      "outputs": [
        {
          "output_type": "execute_result",
          "data": {
            "text/plain": [
              "0.8400539532761145"
            ]
          },
          "metadata": {
            "tags": []
          },
          "execution_count": 170
        }
      ]
    },
    {
      "cell_type": "markdown",
      "metadata": {
        "id": "5W-V_gnt9MjC"
      },
      "source": [
        "# Amélioration\r\n",
        "- Future Engineering\r\n",
        "- Regularization\r\n",
        "- Cross Validation\r\n",
        "- Traitement des outlier\r\n",
        "- Hyperparameter Optimization"
      ]
    }
  ]
}